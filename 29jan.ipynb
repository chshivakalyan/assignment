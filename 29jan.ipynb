{
 "cells": [
  {
   "cell_type": "code",
   "execution_count": 2,
   "id": "a6e2a94b-9829-4420-b203-50838835617e",
   "metadata": {},
   "outputs": [],
   "source": [
    "#1 guido van rossum"
   ]
  },
  {
   "cell_type": "code",
   "execution_count": 3,
   "id": "211375f9-d113-4a93-80b1-73d608e24e81",
   "metadata": {},
   "outputs": [],
   "source": [
    "#2 object-oriented programming"
   ]
  },
  {
   "cell_type": "code",
   "execution_count": 4,
   "id": "9b12930e-93ed-4fb1-b0da-28c2d83ab1ac",
   "metadata": {},
   "outputs": [],
   "source": [
    "#3 yes python is case sensitive"
   ]
  },
  {
   "cell_type": "code",
   "execution_count": 5,
   "id": "9d655932-a388-46ec-8f87-f22aa07054c3",
   "metadata": {},
   "outputs": [],
   "source": [
    "#4  .py"
   ]
  },
  {
   "cell_type": "code",
   "execution_count": 6,
   "id": "7ab4e807-e1b4-4b32-a536-2ac7b91671c7",
   "metadata": {},
   "outputs": [],
   "source": [
    "#5 interpreted"
   ]
  },
  {
   "cell_type": "code",
   "execution_count": 7,
   "id": "2dcd27f7-2fe5-4450-87fd-53e7c043e4f6",
   "metadata": {},
   "outputs": [],
   "source": [
    "#6  print()"
   ]
  },
  {
   "cell_type": "code",
   "execution_count": 8,
   "id": "865d3caa-06d8-4c97-b23c-bbf2981d521a",
   "metadata": {},
   "outputs": [],
   "source": [
    "#7 #"
   ]
  },
  {
   "cell_type": "code",
   "execution_count": 9,
   "id": "811ccf51-0b49-4114-a4f6-1ea803c5c4e8",
   "metadata": {},
   "outputs": [],
   "source": [
    "#8 sys.version"
   ]
  },
  {
   "cell_type": "code",
   "execution_count": 10,
   "id": "337b739d-31e6-4ce7-b3b6-50af18417d23",
   "metadata": {},
   "outputs": [],
   "source": [
    "#9 lambda"
   ]
  },
  {
   "cell_type": "code",
   "execution_count": 11,
   "id": "1ea9220a-beef-49e8-b85f-d87de579cf8b",
   "metadata": {},
   "outputs": [],
   "source": [
    "#10 pip install packages"
   ]
  },
  {
   "cell_type": "code",
   "execution_count": 13,
   "id": "90bd2b38-8a84-4dce-b363-0fbd6973fac3",
   "metadata": {},
   "outputs": [
    {
     "data": {
      "text/plain": [
       "[]"
      ]
     },
     "execution_count": 13,
     "metadata": {},
     "output_type": "execute_result"
    }
   ],
   "source": [
    "#11 input()\n",
    "int()\n",
    "list()"
   ]
  },
  {
   "cell_type": "code",
   "execution_count": 14,
   "id": "89a55c08-0db1-4932-a0af-3f460207db26",
   "metadata": {},
   "outputs": [],
   "source": [
    "#12 79"
   ]
  },
  {
   "cell_type": "code",
   "execution_count": 17,
   "id": "feab14c4-a2d7-4068-a550-af2ad5d85e28",
   "metadata": {},
   "outputs": [
    {
     "data": {
      "text/plain": [
       "' 13 vast modules are available\\nopen source \\neasy to read \\nhigh level language'"
      ]
     },
     "execution_count": 17,
     "metadata": {},
     "output_type": "execute_result"
    }
   ],
   "source": [
    "\"\"\" 13 vast modules are available\n",
    "open source \n",
    "easy to read \n",
    "high level language\"\"\""
   ]
  },
  {
   "cell_type": "code",
   "execution_count": 18,
   "id": "c442f568-d207-4b93-bd3e-fa76c20b8cee",
   "metadata": {},
   "outputs": [],
   "source": [
    "# 14 python private heap space"
   ]
  },
  {
   "cell_type": "code",
   "execution_count": 19,
   "id": "978d8b5d-dd27-44be-b3af-a9e034b28ad4",
   "metadata": {},
   "outputs": [],
   "source": [
    "#15 visit www.python.org/downloads/ and install it on pc "
   ]
  },
  {
   "cell_type": "code",
   "execution_count": null,
   "id": "caf0928b-0628-4a24-ada3-c0462b9d627a",
   "metadata": {},
   "outputs": [],
   "source": [
    "#16 yes indentation is required in python"
   ]
  }
 ],
 "metadata": {
  "kernelspec": {
   "display_name": "Python 3 (ipykernel)",
   "language": "python",
   "name": "python3"
  },
  "language_info": {
   "codemirror_mode": {
    "name": "ipython",
    "version": 3
   },
   "file_extension": ".py",
   "mimetype": "text/x-python",
   "name": "python",
   "nbconvert_exporter": "python",
   "pygments_lexer": "ipython3",
   "version": "3.10.8"
  }
 },
 "nbformat": 4,
 "nbformat_minor": 5
}
